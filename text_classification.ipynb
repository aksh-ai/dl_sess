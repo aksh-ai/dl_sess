{
  "nbformat": 4,
  "nbformat_minor": 0,
  "metadata": {
    "colab": {
      "name": "text_classification.ipynb",
      "provenance": [],
      "collapsed_sections": []
    },
    "kernelspec": {
      "name": "python3",
      "display_name": "Python 3"
    },
    "accelerator": "GPU"
  },
  "cells": [
    {
      "cell_type": "markdown",
      "metadata": {
        "id": "llYB_OX1iWOs",
        "colab_type": "text"
      },
      "source": [
        "# Text Classification\n",
        "\n",
        "**Problem Statement:** Given a dataset of articles and their publishers, build an NLP pipeline and model that can predict the name of the publisher. \n",
        "\n",
        "Dataset taken from Google BigQuery public datasets"
      ]
    },
    {
      "cell_type": "markdown",
      "metadata": {
        "id": "nHv_e-EYizmd",
        "colab_type": "text"
      },
      "source": [
        "## Import Tensorflow 2.0"
      ]
    },
    {
      "cell_type": "code",
      "metadata": {
        "id": "kPzvqGQTC5Es",
        "colab_type": "code",
        "outputId": "12cad065-d90e-412c-939e-66bee2d55cb9",
        "colab": {
          "base_uri": "https://localhost:8080/",
          "height": 35
        }
      },
      "source": [
        "try:\n",
        "  %tensorflow_version 2.x\n",
        "except Exception:\n",
        "  pass  "
      ],
      "execution_count": 0,
      "outputs": [
        {
          "output_type": "stream",
          "text": [
            "TensorFlow 2.x selected.\n"
          ],
          "name": "stdout"
        }
      ]
    },
    {
      "cell_type": "markdown",
      "metadata": {
        "id": "IhlUQeu-i3Mz",
        "colab_type": "text"
      },
      "source": [
        "## Necessary Imports"
      ]
    },
    {
      "cell_type": "code",
      "metadata": {
        "id": "udJlj9X89KTT",
        "colab_type": "code",
        "colab": {}
      },
      "source": [
        "import matplotlib.pyplot as plt\n",
        "import seaborn as sns\n",
        "import pandas as pd\n",
        "import numpy as np\n",
        "from sklearn.preprocessing import LabelEncoder\n",
        "from tensorflow.keras.utils import to_categorical\n",
        "from tensorflow.keras.preprocessing.text import Tokenizer\n",
        "from tensorflow.keras.preprocessing.sequence import pad_sequences\n",
        "from tensorflow.keras.utils import to_categorical\n",
        "from sklearn.model_selection import train_test_split\n",
        "import tensorflow.keras as keras\n",
        "from tensorflow.keras.layers import Input, SimpleRNN, LSTM, Bidirectional, Dense, GRU, Embedding, Dropout\n",
        "from tensorflow.keras.models import Model,Sequential \n",
        "%matplotlib inline"
      ],
      "execution_count": 0,
      "outputs": []
    },
    {
      "cell_type": "code",
      "metadata": {
        "id": "L3IJMlzAA-xi",
        "colab_type": "code",
        "outputId": "f631582e-1b05-4639-a955-3a4ba0bf3d2e",
        "colab": {
          "base_uri": "https://localhost:8080/",
          "height": 35
        }
      },
      "source": [
        "from google.colab import drive\n",
        "drive.mount('/content/drive')"
      ],
      "execution_count": 0,
      "outputs": [
        {
          "output_type": "stream",
          "text": [
            "Drive already mounted at /content/drive; to attempt to forcibly remount, call drive.mount(\"/content/drive\", force_remount=True).\n"
          ],
          "name": "stdout"
        }
      ]
    },
    {
      "cell_type": "markdown",
      "metadata": {
        "id": "sjnRqbIUi6G_",
        "colab_type": "text"
      },
      "source": [
        "## Load the dataset\n",
        "\n",
        "Load the dataset and visualize them"
      ]
    },
    {
      "cell_type": "code",
      "metadata": {
        "id": "DAGiQMvo93Nj",
        "colab_type": "code",
        "colab": {}
      },
      "source": [
        "dataframe=pd.read_csv('datasets/full_data.csv', nrows=92000)"
      ],
      "execution_count": 0,
      "outputs": []
    },
    {
      "cell_type": "code",
      "metadata": {
        "id": "uyx0Ykbr9350",
        "colab_type": "code",
        "outputId": "16dc7ada-61d5-48f9-aade-8eaa58784bce",
        "colab": {
          "base_uri": "https://localhost:8080/",
          "height": 297
        }
      },
      "source": [
        "sns.countplot(dataframe['source'])"
      ],
      "execution_count": 0,
      "outputs": [
        {
          "output_type": "execute_result",
          "data": {
            "text/plain": [
              "<matplotlib.axes._subplots.AxesSubplot at 0x7fdc6d9b0400>"
            ]
          },
          "metadata": {
            "tags": []
          },
          "execution_count": 5
        },
        {
          "output_type": "display_data",
          "data": {
            "image/png": "[encoded data removed]",
            "text/plain": [
              "<Figure size 432x288 with 1 Axes>"
            ]
          },
          "metadata": {
            "tags": []
          }
        }
      ]
    },
    {
      "cell_type": "markdown",
      "metadata": {
        "id": "88TGWRJ7i_8B",
        "colab_type": "text"
      },
      "source": [
        "## Preprocess the dataset\n",
        "\n",
        "X denotes the articles' titles.\n",
        "\n",
        "Y denotes the publisher's name.\n",
        "\n",
        "1) Convert the publisher's name into categorical numbers. Use LabelEncoder from Scikit Learn library for this.\n",
        "\n",
        "2) Convert article names into vector of integers.\n",
        "\n",
        "3) This can be done by using Tokenizer class by Keras.\n",
        "\n",
        "4) Tokenizing is nothing but splitting the words present in a sentence into an array of words. \n",
        "\n",
        "5) These arrays of words are mapped to specific integer value which represents their weights.\n",
        "\n",
        "6) fit_on_texts() function converts sentences into words\n",
        "\n",
        "7) texts_to_sequences() function converts there array of words into array of integer vectors for each sentence."
      ]
    },
    {
      "cell_type": "code",
      "metadata": {
        "id": "b5J2FwXQAFL2",
        "colab_type": "code",
        "colab": {}
      },
      "source": [
        "X=dataframe['title'].values\n",
        "Y=dataframe['source'].values\n",
        "encoder=LabelEncoder()\n",
        "Y=encoder.fit_transform(Y)\n",
        "Y=to_categorical(Y)\n",
        "tokenizer = Tokenizer(num_words=2500, split=' ')\n",
        "tokenizer.fit_on_texts(X)\n",
        "X = tokenizer.texts_to_sequences(X)\n",
        "X = pad_sequences(X)"
      ],
      "execution_count": 0,
      "outputs": []
    },
    {
      "cell_type": "markdown",
      "metadata": {
        "id": "Q1Qt3O4tklaj",
        "colab_type": "text"
      },
      "source": [
        "## Train Test split"
      ]
    },
    {
      "cell_type": "code",
      "metadata": {
        "id": "9CBWgGsuAG_T",
        "colab_type": "code",
        "colab": {}
      },
      "source": [
        "X_train, X_test, Y_train, Y_test = train_test_split(X,Y,train_size=0.8)"
      ],
      "execution_count": 0,
      "outputs": []
    },
    {
      "cell_type": "markdown",
      "metadata": {
        "id": "3E7cIwNRkqvl",
        "colab_type": "text"
      },
      "source": [
        "# Building the model\n",
        "\n",
        "We'll use Tensorflow's keras high level API for building the model.\n",
        "\n",
        "**Neural Network Architecture**\n",
        "\n",
        "* Embedding layer (Input layer)\n",
        "* Gated Recurrent Unit that returns sequences\n",
        "* Gated Recurrent Unit \n",
        "* Dropout to prevent overfitting\n",
        "* Dense layer to reduce to linearities\n",
        "* Output layer - Dense of 5 classes"
      ]
    },
    {
      "cell_type": "code",
      "metadata": {
        "id": "qfs6ij58-FWE",
        "colab_type": "code",
        "colab": {}
      },
      "source": [
        "def GRU_model():\n",
        "  model = Sequential()\n",
        "  model.add(Embedding(2500,128,input_length=X.shape[1]))\n",
        "  model.add(GRU((64), return_sequences=True))\n",
        "  model.add(GRU((32)))\n",
        "  model.add(Dropout(0.2))\n",
        "  model.add(Dense(8,activation='relu'))\n",
        "  model.add(Dense(5,activation='softmax'))\n",
        "  model.compile(loss=keras.losses.categorical_crossentropy,optimizer='adam',metrics=['accuracy'])\n",
        "  return model"
      ],
      "execution_count": 0,
      "outputs": []
    },
    {
      "cell_type": "code",
      "metadata": {
        "id": "Sn7n-Jtx-lac",
        "colab_type": "code",
        "colab": {}
      },
      "source": [
        "model = GRU_model()"
      ],
      "execution_count": 0,
      "outputs": []
    },
    {
      "cell_type": "markdown",
      "metadata": {
        "id": "tANE_EFxleju",
        "colab_type": "text"
      },
      "source": [
        "## Train the model"
      ]
    },
    {
      "cell_type": "code",
      "metadata": {
        "id": "Cg2R_kRw-zhp",
        "colab_type": "code",
        "outputId": "b250b9e2-38c7-46cf-d099-844bc7e7e8a3",
        "colab": {
          "base_uri": "https://localhost:8080/",
          "height": 1000
        }
      },
      "source": [
        "history=model.fit(X_train,Y_train,epochs=30,validation_data=(X_test,Y_test),batch_size=500)"
      ],
      "execution_count": 0,
      "outputs": [
        {
          "output_type": "stream",
          "text": [
            "Train on 73600 samples, validate on 18400 samples\n",
            "Epoch 1/30\n",
            "73600/73600 [==============================] - 30s 414us/sample - loss: 1.1698 - accuracy: 0.5236 - val_loss: 0.9174 - val_accuracy: 0.6522\n",
            "Epoch 2/30\n",
            "73600/73600 [==============================] - 27s 365us/sample - loss: 0.8904 - accuracy: 0.6677 - val_loss: 0.8821 - val_accuracy: 0.6671\n",
            "Epoch 3/30\n",
            "73600/73600 [==============================] - 27s 367us/sample - loss: 0.8480 - accuracy: 0.6829 - val_loss: 0.8626 - val_accuracy: 0.6712\n",
            "Epoch 4/30\n",
            "73600/73600 [==============================] - 27s 367us/sample - loss: 0.8188 - accuracy: 0.6937 - val_loss: 0.8556 - val_accuracy: 0.6709\n",
            "Epoch 5/30\n",
            "73600/73600 [==============================] - 27s 366us/sample - loss: 0.7954 - accuracy: 0.7028 - val_loss: 0.8464 - val_accuracy: 0.6778\n",
            "Epoch 6/30\n",
            "73600/73600 [==============================] - 27s 369us/sample - loss: 0.7762 - accuracy: 0.7109 - val_loss: 0.8451 - val_accuracy: 0.6815\n",
            "Epoch 7/30\n",
            "73600/73600 [==============================] - 27s 365us/sample - loss: 0.7566 - accuracy: 0.7202 - val_loss: 0.8341 - val_accuracy: 0.6840\n",
            "Epoch 8/30\n",
            "73600/73600 [==============================] - 27s 373us/sample - loss: 0.7352 - accuracy: 0.7297 - val_loss: 0.8342 - val_accuracy: 0.6867\n",
            "Epoch 9/30\n",
            "73600/73600 [==============================] - 27s 367us/sample - loss: 0.7161 - accuracy: 0.7389 - val_loss: 0.8367 - val_accuracy: 0.6891\n",
            "Epoch 10/30\n",
            "73600/73600 [==============================] - 27s 368us/sample - loss: 0.7010 - accuracy: 0.7427 - val_loss: 0.8402 - val_accuracy: 0.6885\n",
            "Epoch 11/30\n",
            "73600/73600 [==============================] - 27s 366us/sample - loss: 0.6875 - accuracy: 0.7492 - val_loss: 0.8476 - val_accuracy: 0.6877\n",
            "Epoch 12/30\n",
            "73600/73600 [==============================] - 27s 368us/sample - loss: 0.6736 - accuracy: 0.7555 - val_loss: 0.8573 - val_accuracy: 0.6852\n",
            "Epoch 13/30\n",
            "73600/73600 [==============================] - 27s 366us/sample - loss: 0.6585 - accuracy: 0.7612 - val_loss: 0.8627 - val_accuracy: 0.6858\n",
            "Epoch 14/30\n",
            "73600/73600 [==============================] - 27s 364us/sample - loss: 0.6449 - accuracy: 0.7670 - val_loss: 0.8729 - val_accuracy: 0.6864\n",
            "Epoch 15/30\n",
            "73600/73600 [==============================] - 27s 363us/sample - loss: 0.6293 - accuracy: 0.7723 - val_loss: 0.8880 - val_accuracy: 0.6870\n",
            "Epoch 16/30\n",
            "73600/73600 [==============================] - 27s 363us/sample - loss: 0.6140 - accuracy: 0.7786 - val_loss: 0.9054 - val_accuracy: 0.6823\n",
            "Epoch 17/30\n",
            "73600/73600 [==============================] - 27s 366us/sample - loss: 0.5970 - accuracy: 0.7858 - val_loss: 0.9150 - val_accuracy: 0.6800\n",
            "Epoch 18/30\n",
            "73600/73600 [==============================] - 27s 365us/sample - loss: 0.5814 - accuracy: 0.7915 - val_loss: 0.9248 - val_accuracy: 0.6791\n",
            "Epoch 19/30\n",
            "73600/73600 [==============================] - 27s 368us/sample - loss: 0.5657 - accuracy: 0.7981 - val_loss: 0.9473 - val_accuracy: 0.6782\n",
            "Epoch 20/30\n",
            "73600/73600 [==============================] - 27s 369us/sample - loss: 0.5497 - accuracy: 0.8040 - val_loss: 0.9726 - val_accuracy: 0.6727\n",
            "Epoch 21/30\n",
            "73600/73600 [==============================] - 27s 367us/sample - loss: 0.5330 - accuracy: 0.8095 - val_loss: 1.0068 - val_accuracy: 0.6734\n",
            "Epoch 22/30\n",
            "73600/73600 [==============================] - 27s 365us/sample - loss: 0.5179 - accuracy: 0.8169 - val_loss: 1.0340 - val_accuracy: 0.6751\n",
            "Epoch 23/30\n",
            "73600/73600 [==============================] - 27s 364us/sample - loss: 0.5003 - accuracy: 0.8227 - val_loss: 1.0594 - val_accuracy: 0.6734\n",
            "Epoch 24/30\n",
            "73600/73600 [==============================] - 27s 367us/sample - loss: 0.4834 - accuracy: 0.8300 - val_loss: 1.0704 - val_accuracy: 0.6730\n",
            "Epoch 25/30\n",
            "73600/73600 [==============================] - 27s 364us/sample - loss: 0.4675 - accuracy: 0.8350 - val_loss: 1.1154 - val_accuracy: 0.6692\n",
            "Epoch 26/30\n",
            "73600/73600 [==============================] - 27s 366us/sample - loss: 0.4505 - accuracy: 0.8418 - val_loss: 1.1519 - val_accuracy: 0.6734\n",
            "Epoch 27/30\n",
            "73600/73600 [==============================] - 27s 363us/sample - loss: 0.4356 - accuracy: 0.8477 - val_loss: 1.1665 - val_accuracy: 0.6704\n",
            "Epoch 28/30\n",
            "73600/73600 [==============================] - 27s 364us/sample - loss: 0.4206 - accuracy: 0.8533 - val_loss: 1.2089 - val_accuracy: 0.6644\n",
            "Epoch 29/30\n",
            "73600/73600 [==============================] - 27s 362us/sample - loss: 0.4043 - accuracy: 0.8590 - val_loss: 1.2613 - val_accuracy: 0.6680\n",
            "Epoch 30/30\n",
            "73600/73600 [==============================] - 27s 363us/sample - loss: 0.3869 - accuracy: 0.8650 - val_loss: 1.3100 - val_accuracy: 0.6652\n"
          ],
          "name": "stdout"
        }
      ]
    },
    {
      "cell_type": "markdown",
      "metadata": {
        "id": "V-w8bfIVliP-",
        "colab_type": "text"
      },
      "source": [
        "## Evaluate\n",
        "\n",
        "The model is overfitting and it is not performing well"
      ]
    },
    {
      "cell_type": "code",
      "metadata": {
        "id": "nxFFMiIw-3IN",
        "colab_type": "code",
        "outputId": "643fcd00-923b-4e59-e84a-5e75be85a7c5",
        "colab": {
          "base_uri": "https://localhost:8080/",
          "height": 283
        }
      },
      "source": [
        "plt.plot(history.history['loss'])\n",
        "plt.plot(history.history['val_loss'])"
      ],
      "execution_count": 0,
      "outputs": [
        {
          "output_type": "execute_result",
          "data": {
            "text/plain": [
              "[<matplotlib.lines.Line2D at 0x7fdbda3143c8>]"
            ]
          },
          "metadata": {
            "tags": []
          },
          "execution_count": 11
        },
        {
          "output_type": "display_data",
          "data": {
            "image/png": "[encoded data removed]",
            "text/plain": [
              "<Figure size 432x288 with 1 Axes>"
            ]
          },
          "metadata": {
            "tags": []
          }
        }
      ]
    },
    {
      "cell_type": "markdown",
      "metadata": {
        "id": "KbhbZ1If-3g5",
        "colab_type": "text"
      },
      "source": [
        "# Sampling"
      ]
    },
    {
      "cell_type": "markdown",
      "metadata": {
        "id": "myoOsppnlrG8",
        "colab_type": "text"
      },
      "source": [
        "We have class imbalance in our dataset. We can overcome that issue by using sampling methods."
      ]
    },
    {
      "cell_type": "code",
      "metadata": {
        "id": "SQm6XOBt_J39",
        "colab_type": "code",
        "outputId": "0aeba006-9ae5-4316-e2f2-6bf758720e4e",
        "colab": {
          "base_uri": "https://localhost:8080/",
          "height": 35
        }
      },
      "source": [
        "dataframe[dataframe['source']=='github'].shape"
      ],
      "execution_count": 0,
      "outputs": [
        {
          "output_type": "execute_result",
          "data": {
            "text/plain": [
              "(36525, 3)"
            ]
          },
          "metadata": {
            "tags": []
          },
          "execution_count": 12
        }
      ]
    },
    {
      "cell_type": "code",
      "metadata": {
        "id": "qwdx1_hH_VvW",
        "colab_type": "code",
        "colab": {}
      },
      "source": [
        "class1=dataframe[dataframe['source']=='wired']\n",
        "class2=dataframe[dataframe['source']=='google']\n",
        "class3=dataframe[dataframe['source']=='nytimes']\n",
        "class4=dataframe[dataframe['source']=='medium']"
      ],
      "execution_count": 0,
      "outputs": []
    },
    {
      "cell_type": "markdown",
      "metadata": {
        "id": "KAs2DZuFlyRM",
        "colab_type": "text"
      },
      "source": [
        "## Oversampling\n",
        "\n",
        "Choose random data from each class and append it with the respective existing dataset classes."
      ]
    },
    {
      "cell_type": "code",
      "metadata": {
        "id": "a67R3PPZ_YBe",
        "colab_type": "code",
        "colab": {}
      },
      "source": [
        "class1_new=class1[0:int(class1.shape[0]*1)]\n",
        "class2_new=class2[0:int(class2.shape[0]*0.4)]\n",
        "class3_new=class3\n",
        "class4_new=class4[0:int(class2.shape[0]*0.3)]\n",
        "\n",
        "for i in range(1):\n",
        "  class1_new=pd.concat([class1_new,class1])\n",
        "\n",
        "for i in range(1):\n",
        "  class2_new=pd.concat([class2_new,class2])\n",
        "  \n",
        "for i in range(5):\n",
        "  class3_new=pd.concat([class3_new,class3])\n",
        "\n",
        "for i in range(1):\n",
        "  class4_new=pd.concat([class4_new,class4])\n",
        "\n",
        "dataframe1=pd.concat([dataframe,class1_new,class2_new,class3_new,class4_new])"
      ],
      "execution_count": 0,
      "outputs": []
    },
    {
      "cell_type": "code",
      "metadata": {
        "id": "14y7ATTb_czh",
        "colab_type": "code",
        "outputId": "10a31c9a-930c-46a7-a4d9-6eb76c9f6fb9",
        "colab": {
          "base_uri": "https://localhost:8080/",
          "height": 297
        }
      },
      "source": [
        "sns.countplot(dataframe1['source'])"
      ],
      "execution_count": 0,
      "outputs": [
        {
          "output_type": "execute_result",
          "data": {
            "text/plain": [
              "<matplotlib.axes._subplots.AxesSubplot at 0x7fdbdd76f240>"
            ]
          },
          "metadata": {
            "tags": []
          },
          "execution_count": 16
        },
        {
          "output_type": "display_data",
          "data": {
            "image/png": "[encoded data removed]",
            "text/plain": [
              "<Figure size 432x288 with 1 Axes>"
            ]
          },
          "metadata": {
            "tags": []
          }
        }
      ]
    },
    {
      "cell_type": "markdown",
      "metadata": {
        "id": "H_PmBVW3mRwV",
        "colab_type": "text"
      },
      "source": [
        "## Preprocess again"
      ]
    },
    {
      "cell_type": "code",
      "metadata": {
        "id": "LOS_XjdL_fRl",
        "colab_type": "code",
        "colab": {}
      },
      "source": [
        "X=dataframe1['title'].values\n",
        "Y=dataframe1['source'].values\n",
        "encoder=LabelEncoder()\n",
        "Y=encoder.fit_transform(Y)\n",
        "Y=to_categorical(Y)\n",
        "tokenizer = Tokenizer(num_words=2500,split=' ')\n",
        "tokenizer.fit_on_texts(X)\n",
        "X = tokenizer.texts_to_sequences(X)\n",
        "X = pad_sequences(X)"
      ],
      "execution_count": 0,
      "outputs": []
    },
    {
      "cell_type": "markdown",
      "metadata": {
        "id": "boe5Xfv4mT2Q",
        "colab_type": "text"
      },
      "source": [
        "## Train Test split"
      ]
    },
    {
      "cell_type": "code",
      "metadata": {
        "id": "Gz0temfrAPXG",
        "colab_type": "code",
        "colab": {}
      },
      "source": [
        "X_train, X_test, Y_train, Y_test = train_test_split(X,Y,train_size=0.8)"
      ],
      "execution_count": 0,
      "outputs": []
    },
    {
      "cell_type": "markdown",
      "metadata": {
        "id": "-U1qBJNtmXj8",
        "colab_type": "text"
      },
      "source": [
        "## Train"
      ]
    },
    {
      "cell_type": "code",
      "metadata": {
        "id": "TwwO9_BeASWB",
        "colab_type": "code",
        "colab": {}
      },
      "source": [
        "model = GRU_model()"
      ],
      "execution_count": 0,
      "outputs": []
    },
    {
      "cell_type": "code",
      "metadata": {
        "id": "2vULbN_MAVIA",
        "colab_type": "code",
        "outputId": "6d8eaa4b-b77d-4dbb-99ec-c86d3864ec05",
        "colab": {
          "base_uri": "https://localhost:8080/",
          "height": 1000
        }
      },
      "source": [
        "history=model.fit(X_train,Y_train,epochs=30,validation_data=(X_test,Y_test),batch_size=500)"
      ],
      "execution_count": 0,
      "outputs": [
        {
          "output_type": "stream",
          "text": [
            "Train on 162372 samples, validate on 40593 samples\n",
            "Epoch 1/30\n",
            "162372/162372 [==============================] - 65s 398us/sample - loss: 1.2610 - accuracy: 0.4499 - val_loss: 1.0787 - val_accuracy: 0.5671\n",
            "Epoch 2/30\n",
            "162372/162372 [==============================] - 62s 380us/sample - loss: 0.9761 - accuracy: 0.6260 - val_loss: 0.8970 - val_accuracy: 0.6652\n",
            "Epoch 3/30\n",
            "162372/162372 [==============================] - 61s 378us/sample - loss: 0.8599 - accuracy: 0.6815 - val_loss: 0.8438 - val_accuracy: 0.6890\n",
            "Epoch 4/30\n",
            "162372/162372 [==============================] - 62s 380us/sample - loss: 0.8022 - accuracy: 0.7059 - val_loss: 0.8097 - val_accuracy: 0.7045\n",
            "Epoch 5/30\n",
            "162372/162372 [==============================] - 62s 380us/sample - loss: 0.7523 - accuracy: 0.7279 - val_loss: 0.7743 - val_accuracy: 0.7182\n",
            "Epoch 6/30\n",
            "162372/162372 [==============================] - 62s 379us/sample - loss: 0.7026 - accuracy: 0.7472 - val_loss: 0.7389 - val_accuracy: 0.7359\n",
            "Epoch 7/30\n",
            "162372/162372 [==============================] - 62s 380us/sample - loss: 0.6582 - accuracy: 0.7642 - val_loss: 0.7108 - val_accuracy: 0.7461\n",
            "Epoch 8/30\n",
            "162372/162372 [==============================] - 62s 380us/sample - loss: 0.6162 - accuracy: 0.7809 - val_loss: 0.6865 - val_accuracy: 0.7599\n",
            "Epoch 9/30\n",
            "162372/162372 [==============================] - 62s 382us/sample - loss: 0.5796 - accuracy: 0.7933 - val_loss: 0.6594 - val_accuracy: 0.7693\n",
            "Epoch 10/30\n",
            "162372/162372 [==============================] - 62s 380us/sample - loss: 0.5433 - accuracy: 0.8072 - val_loss: 0.6303 - val_accuracy: 0.7809\n",
            "Epoch 11/30\n",
            "162372/162372 [==============================] - 62s 380us/sample - loss: 0.5115 - accuracy: 0.8182 - val_loss: 0.6120 - val_accuracy: 0.7876\n",
            "Epoch 12/30\n",
            "162372/162372 [==============================] - 62s 379us/sample - loss: 0.4808 - accuracy: 0.8298 - val_loss: 0.5959 - val_accuracy: 0.7942\n",
            "Epoch 13/30\n",
            "162372/162372 [==============================] - 62s 379us/sample - loss: 0.4542 - accuracy: 0.8400 - val_loss: 0.5800 - val_accuracy: 0.8025\n",
            "Epoch 14/30\n",
            "162372/162372 [==============================] - 62s 380us/sample - loss: 0.4271 - accuracy: 0.8497 - val_loss: 0.5614 - val_accuracy: 0.8120\n",
            "Epoch 15/30\n",
            "162372/162372 [==============================] - 62s 380us/sample - loss: 0.4045 - accuracy: 0.8583 - val_loss: 0.5477 - val_accuracy: 0.8194\n",
            "Epoch 16/30\n",
            "162372/162372 [==============================] - 62s 381us/sample - loss: 0.3830 - accuracy: 0.8654 - val_loss: 0.5366 - val_accuracy: 0.8257\n",
            "Epoch 17/30\n",
            "162372/162372 [==============================] - 62s 381us/sample - loss: 0.3626 - accuracy: 0.8730 - val_loss: 0.5223 - val_accuracy: 0.8332\n",
            "Epoch 18/30\n",
            "162372/162372 [==============================] - 62s 383us/sample - loss: 0.3434 - accuracy: 0.8801 - val_loss: 0.5092 - val_accuracy: 0.8381\n",
            "Epoch 19/30\n",
            "162372/162372 [==============================] - 61s 378us/sample - loss: 0.3236 - accuracy: 0.8875 - val_loss: 0.5082 - val_accuracy: 0.8434\n",
            "Epoch 20/30\n",
            "162372/162372 [==============================] - 62s 379us/sample - loss: 0.3048 - accuracy: 0.8941 - val_loss: 0.5002 - val_accuracy: 0.8491\n",
            "Epoch 21/30\n",
            "162372/162372 [==============================] - 61s 377us/sample - loss: 0.2922 - accuracy: 0.8991 - val_loss: 0.4909 - val_accuracy: 0.8550\n",
            "Epoch 22/30\n",
            "162372/162372 [==============================] - 62s 379us/sample - loss: 0.2789 - accuracy: 0.9041 - val_loss: 0.4878 - val_accuracy: 0.8559\n",
            "Epoch 23/30\n",
            "162372/162372 [==============================] - 62s 380us/sample - loss: 0.2669 - accuracy: 0.9083 - val_loss: 0.4855 - val_accuracy: 0.8601\n",
            "Epoch 24/30\n",
            "162372/162372 [==============================] - 62s 381us/sample - loss: 0.2529 - accuracy: 0.9130 - val_loss: 0.4818 - val_accuracy: 0.8654\n",
            "Epoch 25/30\n",
            "162372/162372 [==============================] - 61s 379us/sample - loss: 0.2379 - accuracy: 0.9190 - val_loss: 0.4823 - val_accuracy: 0.8678\n",
            "Epoch 26/30\n",
            "162372/162372 [==============================] - 62s 379us/sample - loss: 0.2291 - accuracy: 0.9219 - val_loss: 0.4819 - val_accuracy: 0.8700\n",
            "Epoch 27/30\n",
            "162372/162372 [==============================] - 62s 380us/sample - loss: 0.2181 - accuracy: 0.9252 - val_loss: 0.4860 - val_accuracy: 0.8713\n",
            "Epoch 28/30\n",
            "162372/162372 [==============================] - 62s 383us/sample - loss: 0.2087 - accuracy: 0.9295 - val_loss: 0.4717 - val_accuracy: 0.8772\n",
            "Epoch 29/30\n",
            "162372/162372 [==============================] - 62s 382us/sample - loss: 0.2006 - accuracy: 0.9313 - val_loss: 0.5064 - val_accuracy: 0.8748\n",
            "Epoch 30/30\n",
            "162372/162372 [==============================] - 62s 380us/sample - loss: 0.1960 - accuracy: 0.9342 - val_loss: 0.4764 - val_accuracy: 0.8806\n"
          ],
          "name": "stdout"
        }
      ]
    },
    {
      "cell_type": "markdown",
      "metadata": {
        "id": "bhttOvNUmZrz",
        "colab_type": "text"
      },
      "source": [
        "## Evaluate"
      ]
    },
    {
      "cell_type": "code",
      "metadata": {
        "id": "eaOvxrNsAZYn",
        "colab_type": "code",
        "outputId": "6ff87aab-4a34-4473-db53-a869ddcde6b6",
        "colab": {
          "base_uri": "https://localhost:8080/",
          "height": 283
        }
      },
      "source": [
        "plt.plot(history.history['loss'])\n",
        "plt.plot(history.history['val_loss'])"
      ],
      "execution_count": 0,
      "outputs": [
        {
          "output_type": "execute_result",
          "data": {
            "text/plain": [
              "[<matplotlib.lines.Line2D at 0x7fdbe5b83320>]"
            ]
          },
          "metadata": {
            "tags": []
          },
          "execution_count": 21
        },
        {
          "output_type": "display_data",
          "data": {
            "image/png": "[encoded data removed]",
            "text/plain": [
              "<Figure size 432x288 with 1 Axes>"
            ]
          },
          "metadata": {
            "tags": []
          }
        }
      ]
    },
    {
      "cell_type": "markdown",
      "metadata": {
        "id": "BMF6Ih9_mblC",
        "colab_type": "text"
      },
      "source": [
        "## Save the model"
      ]
    },
    {
      "cell_type": "code",
      "metadata": {
        "id": "uB0zCDtvOlbQ",
        "colab_type": "code",
        "colab": {}
      },
      "source": [
        "model.save_weights('models/article.h5')"
      ],
      "execution_count": 0,
      "outputs": []
    }
  ]
}