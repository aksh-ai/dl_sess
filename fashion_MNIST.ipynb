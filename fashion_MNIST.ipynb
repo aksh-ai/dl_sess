{
  "nbformat": 4,
  "nbformat_minor": 0,
  "metadata": {
    "colab": {
      "name": "fashion_MNIST.ipynb",
      "provenance": [],
      "collapsed_sections": []
    },
    "kernelspec": {
      "name": "python3",
      "display_name": "Python 3"
    },
    "accelerator": "GPU"
  },
  "cells": [
    {
      "cell_type": "markdown",
      "metadata": {
        "id": "LBqg_8onmm9O",
        "colab_type": "text"
      },
      "source": [
        "# Multiclass Classification\n",
        "\n",
        "**Problem Statement:** Given a dataset that contains images of clothing items, build an image classification model that can classify the clothing items containing 10 categories.\n",
        "\n",
        "Fashion MNIST dataset is used here."
      ]
    },
    {
      "cell_type": "markdown",
      "metadata": {
        "id": "ngCzXHaTm6ce",
        "colab_type": "text"
      },
      "source": [
        "## Import Tensorflow 2.0"
      ]
    },
    {
      "cell_type": "code",
      "metadata": {
        "id": "6KaXrwCQuk12",
        "colab_type": "code",
        "outputId": "c0538110-9258-4672-bcdc-674fd0e23204",
        "colab": {
          "base_uri": "https://localhost:8080/",
          "height": 35
        }
      },
      "source": [
        "try:\n",
        "  %tensorflow_version 2.x\n",
        "except Exception:\n",
        "  pass  "
      ],
      "execution_count": 1,
      "outputs": [
        {
          "output_type": "stream",
          "text": [
            "TensorFlow 2.x selected.\n"
          ],
          "name": "stdout"
        }
      ]
    },
    {
      "cell_type": "markdown",
      "metadata": {
        "id": "huoLOgUHm8vq",
        "colab_type": "text"
      },
      "source": [
        "## Import Necessary Libraries"
      ]
    },
    {
      "cell_type": "code",
      "metadata": {
        "id": "uYo0B8gKucro",
        "colab_type": "code",
        "colab": {}
      },
      "source": [
        "import tensorflow as tf\n",
        "import numpy as np\n",
        "from matplotlib import pyplot\n",
        "from sklearn.metrics import classification_report\n",
        "%matplotlib inline"
      ],
      "execution_count": 0,
      "outputs": []
    },
    {
      "cell_type": "markdown",
      "metadata": {
        "id": "zftEbj9Am_f8",
        "colab_type": "text"
      },
      "source": [
        "## Loading & Preprocess the dataset"
      ]
    },
    {
      "cell_type": "code",
      "metadata": {
        "id": "yuRDYBJSukIO",
        "colab_type": "code",
        "colab": {}
      },
      "source": [
        "(x_train, y_train), (x_test, y_test) = tf.keras.datasets.fashion_mnist.load_data()\n",
        "\n",
        "x_train = np.expand_dims(x_train, -1)\n",
        "x_test = np.expand_dims(x_test, -1)"
      ],
      "execution_count": 0,
      "outputs": []
    },
    {
      "cell_type": "markdown",
      "metadata": {
        "id": "1_o6lyPynDn4",
        "colab_type": "text"
      },
      "source": [
        "## Build the model\n",
        "\n",
        "We'll use Tensorflow keras high level API\n",
        "\n",
        "**Neural Network Architecture**\n",
        "\n",
        "* Batch Normalization - Input Layer\n",
        "* Convolution 2D layer\n",
        "* Max Pooling 2D layer\n",
        "* Dropout layer\n",
        "* Batch Normalization - Input Layer\n",
        "* Convolution 2D layer\n",
        "* Max Pooling 2D layer\n",
        "* Dropout layer\n",
        "* Batch Normalization - Input Layer\n",
        "* Convolution 2D layer\n",
        "* Max Pooling 2D layer\n",
        "* Dropout layer\n",
        "* Flatten layer\n",
        "* Dense layer \n",
        "* Activation layer\n",
        "* Dropout layer\n",
        "* Output layer - Dense layer for 10 classes\n",
        "* Activation layer\n",
        "\n",
        "Find out why the above model is conveptually wrong / won't give good results.\n"
      ]
    },
    {
      "cell_type": "code",
      "metadata": {
        "id": "rKKGdo99uumr",
        "colab_type": "code",
        "colab": {}
      },
      "source": [
        "def init_CNN_model():\n",
        "  model = tf.keras.models.Sequential()\n",
        "  model.add(tf.keras.layers.BatchNormalization(input_shape=x_train.shape[1:]))\n",
        "  model.add(tf.keras.layers.Conv2D(64, (5, 5), padding='same', activation='elu'))\n",
        "  model.add(tf.keras.layers.MaxPooling2D(pool_size=(2, 2), strides=(2,2)))\n",
        "  # model.add(tf.keras.layers.Dropout(0.25))\n",
        "\n",
        "  model.add(tf.keras.layers.BatchNormalization(input_shape=x_train.shape[1:]))\n",
        "  model.add(tf.keras.layers.Conv2D(128, (5, 5), padding='same', activation='elu'))\n",
        "  model.add(tf.keras.layers.MaxPooling2D(pool_size=(2, 2)))\n",
        "  # model.add(tf.keras.layers.Dropout(0.25))\n",
        "\n",
        "  model.add(tf.keras.layers.BatchNormalization(input_shape=x_train.shape[1:]))\n",
        "  model.add(tf.keras.layers.Conv2D(256, (5, 5), padding='same', activation='elu'))\n",
        "  model.add(tf.keras.layers.MaxPooling2D(pool_size=(2, 2), strides=(2,2)))\n",
        "  # model.add(tf.keras.layers.Dropout(0.25))\n",
        "\n",
        "  model.add(tf.keras.layers.Flatten())\n",
        "  model.add(tf.keras.layers.Dense(256))\n",
        "  model.add(tf.keras.layers.Activation('elu'))\n",
        "  model.add(tf.keras.layers.Dropout(0.5))\n",
        "  model.add(tf.keras.layers.Dense(10))\n",
        "  model.add(tf.keras.layers.Activation('softmax'))\n",
        "  return model"
      ],
      "execution_count": 0,
      "outputs": []
    },
    {
      "cell_type": "markdown",
      "metadata": {
        "id": "iLjtvO31n8Uo",
        "colab_type": "text"
      },
      "source": [
        "## Use Distributed strategy for training"
      ]
    },
    {
      "cell_type": "code",
      "metadata": {
        "id": "ov2SUOu2u00k",
        "colab_type": "code",
        "outputId": "4815d201-0a32-4159-ff59-d96e44ed7b5f",
        "colab": {
          "base_uri": "https://localhost:8080/",
          "height": 55
        }
      },
      "source": [
        "strategy = tf.distribute.MirroredStrategy()"
      ],
      "execution_count": 18,
      "outputs": [
        {
          "output_type": "stream",
          "text": [
            "INFO:tensorflow:Using MirroredStrategy with devices ('/job:localhost/replica:0/task:0/device:GPU:0',)\n"
          ],
          "name": "stdout"
        }
      ]
    },
    {
      "cell_type": "code",
      "metadata": {
        "id": "pidCNIWjvKN2",
        "colab_type": "code",
        "outputId": "e17ee312-6bd0-4993-c981-847f96088a1c",
        "colab": {
          "base_uri": "https://localhost:8080/",
          "height": 35
        }
      },
      "source": [
        "print(f'Number of devices: {strategy.num_replicas_in_sync}')"
      ],
      "execution_count": 19,
      "outputs": [
        {
          "output_type": "stream",
          "text": [
            "Number of devices: 1\n"
          ],
          "name": "stdout"
        }
      ]
    },
    {
      "cell_type": "code",
      "metadata": {
        "id": "yn2q0dNcvNgG",
        "colab_type": "code",
        "colab": {}
      },
      "source": [
        "with strategy.scope():\n",
        "  model = init_CNN_model()\n",
        "  model.compile(optimizer=tf.keras.optimizers.Adam(learning_rate=0.001,), loss='sparse_categorical_crossentropy', metrics=['accuracy'])"
      ],
      "execution_count": 0,
      "outputs": []
    },
    {
      "cell_type": "markdown",
      "metadata": {
        "id": "EP-82eXXoAkR",
        "colab_type": "text"
      },
      "source": [
        "## Train the model"
      ]
    },
    {
      "cell_type": "code",
      "metadata": {
        "id": "nHJpx14BvoxD",
        "colab_type": "code",
        "outputId": "31f869a4-f9d7-42e3-8c1b-72ec2c852262",
        "colab": {
          "base_uri": "https://localhost:8080/",
          "height": 674
        }
      },
      "source": [
        "h = model.fit(x_train, y_train, epochs=17, steps_per_epoch=60, validation_data=(x_test.astype(np.float32), y_test.astype(np.float32)))"
      ],
      "execution_count": 21,
      "outputs": [
        {
          "output_type": "stream",
          "text": [
            "Train on 60000 samples, validate on 10000 samples\n",
            "Epoch 1/17\n",
            "60000/60000 [==============================] - 10s 173us/sample - loss: 1.2111 - accuracy: 0.6648 - val_loss: 0.8759 - val_accuracy: 0.6606\n",
            "Epoch 2/17\n",
            "60000/60000 [==============================] - 7s 113us/sample - loss: 0.5453 - accuracy: 0.8122 - val_loss: 1.1812 - val_accuracy: 0.5709\n",
            "Epoch 3/17\n",
            "60000/60000 [==============================] - 7s 115us/sample - loss: 0.4472 - accuracy: 0.8462 - val_loss: 0.9333 - val_accuracy: 0.6752\n",
            "Epoch 4/17\n",
            "60000/60000 [==============================] - 7s 116us/sample - loss: 0.3870 - accuracy: 0.8651 - val_loss: 1.0320 - val_accuracy: 0.6322\n",
            "Epoch 5/17\n",
            "60000/60000 [==============================] - 7s 118us/sample - loss: 0.3430 - accuracy: 0.8793 - val_loss: 0.7177 - val_accuracy: 0.7365\n",
            "Epoch 6/17\n",
            "60000/60000 [==============================] - 7s 120us/sample - loss: 0.3157 - accuracy: 0.8874 - val_loss: 0.3776 - val_accuracy: 0.8584\n",
            "Epoch 7/17\n",
            "60000/60000 [==============================] - 7s 123us/sample - loss: 0.2912 - accuracy: 0.8952 - val_loss: 0.3515 - val_accuracy: 0.8681\n",
            "Epoch 8/17\n",
            "60000/60000 [==============================] - 7s 124us/sample - loss: 0.2668 - accuracy: 0.9041 - val_loss: 0.3327 - val_accuracy: 0.8794\n",
            "Epoch 9/17\n",
            "60000/60000 [==============================] - 7s 123us/sample - loss: 0.2501 - accuracy: 0.9091 - val_loss: 0.2862 - val_accuracy: 0.8971\n",
            "Epoch 10/17\n",
            "60000/60000 [==============================] - 7s 120us/sample - loss: 0.2405 - accuracy: 0.9122 - val_loss: 0.2667 - val_accuracy: 0.9049\n",
            "Epoch 11/17\n",
            "60000/60000 [==============================] - 7s 119us/sample - loss: 0.2218 - accuracy: 0.9192 - val_loss: 0.2406 - val_accuracy: 0.9164\n",
            "Epoch 12/17\n",
            "60000/60000 [==============================] - 7s 118us/sample - loss: 0.2090 - accuracy: 0.9235 - val_loss: 0.2558 - val_accuracy: 0.9107\n",
            "Epoch 13/17\n",
            "60000/60000 [==============================] - 7s 118us/sample - loss: 0.1969 - accuracy: 0.9274 - val_loss: 0.2323 - val_accuracy: 0.9181\n",
            "Epoch 14/17\n",
            "60000/60000 [==============================] - 7s 117us/sample - loss: 0.1851 - accuracy: 0.9310 - val_loss: 0.2358 - val_accuracy: 0.9192\n",
            "Epoch 15/17\n",
            "60000/60000 [==============================] - 7s 118us/sample - loss: 0.1770 - accuracy: 0.9338 - val_loss: 0.2328 - val_accuracy: 0.9203\n",
            "Epoch 16/17\n",
            "60000/60000 [==============================] - 7s 118us/sample - loss: 0.1674 - accuracy: 0.9388 - val_loss: 0.2285 - val_accuracy: 0.9189\n",
            "Epoch 17/17\n",
            "60000/60000 [==============================] - 7s 118us/sample - loss: 0.1575 - accuracy: 0.9410 - val_loss: 0.2201 - val_accuracy: 0.9250\n"
          ],
          "name": "stdout"
        }
      ]
    },
    {
      "cell_type": "markdown",
      "metadata": {
        "id": "NAexiY8RoDrR",
        "colab_type": "text"
      },
      "source": [
        "## Save the model weights"
      ]
    },
    {
      "cell_type": "code",
      "metadata": {
        "id": "EBnyltprv_Us",
        "colab_type": "code",
        "colab": {}
      },
      "source": [
        "model.save_weights('./fashion_new.h5')"
      ],
      "execution_count": 0,
      "outputs": []
    },
    {
      "cell_type": "markdown",
      "metadata": {
        "id": "q_gassK4oHcZ",
        "colab_type": "text"
      },
      "source": [
        "## Evaluate"
      ]
    },
    {
      "cell_type": "code",
      "metadata": {
        "id": "UcIy-n6Pv1DP",
        "colab_type": "code",
        "outputId": "31547a9f-708a-477d-e818-e5b5e16f26e9",
        "colab": {
          "base_uri": "https://localhost:8080/",
          "height": 283
        }
      },
      "source": [
        "f = pyplot.figure(2) \n",
        "pyplot.plot(h.history['accuracy'])\n",
        "pyplot.plot(h.history['val_accuracy'])"
      ],
      "execution_count": 23,
      "outputs": [
        {
          "output_type": "execute_result",
          "data": {
            "text/plain": [
              "[<matplotlib.lines.Line2D at 0x7fe03f2eb6d8>]"
            ]
          },
          "metadata": {
            "tags": []
          },
          "execution_count": 23
        },
        {
          "output_type": "display_data",
          "data": {
            "image/png": "[encoded data removed]",
            "text/plain": [
              "<Figure size 432x288 with 1 Axes>"
            ]
          },
          "metadata": {
            "tags": []
          }
        }
      ]
    },
    {
      "cell_type": "code",
      "metadata": {
        "id": "HGx3Q8Pqv7mp",
        "colab_type": "code",
        "outputId": "96ea8bb7-095d-4afc-f6a7-569caef04892",
        "colab": {
          "base_uri": "https://localhost:8080/",
          "height": 283
        }
      },
      "source": [
        "g = pyplot.figure(3)\n",
        "pyplot.plot(h.history['loss'])\n",
        "pyplot.plot(h.history['val_loss'])"
      ],
      "execution_count": 24,
      "outputs": [
        {
          "output_type": "execute_result",
          "data": {
            "text/plain": [
              "[<matplotlib.lines.Line2D at 0x7fe03e07a940>]"
            ]
          },
          "metadata": {
            "tags": []
          },
          "execution_count": 24
        },
        {
          "output_type": "display_data",
          "data": {
            "image/png": "[encoded data removed]",
            "text/plain": [
              "<Figure size 432x288 with 1 Axes>"
            ]
          },
          "metadata": {
            "tags": []
          }
        }
      ]
    },
    {
      "cell_type": "code",
      "metadata": {
        "id": "9K8rPGgcwGyK",
        "colab_type": "code",
        "colab": {}
      },
      "source": [
        "LABEL_NAMES = ['t_shirt', 'trouser', 'pullover', 'dress', 'coat', 'sandal', 'shirt', 'sneaker', 'bag', 'ankle_boots']"
      ],
      "execution_count": 0,
      "outputs": []
    },
    {
      "cell_type": "code",
      "metadata": {
        "id": "DUfW8OskwYH5",
        "colab_type": "code",
        "colab": {}
      },
      "source": [
        "def plot_predictions(images, predictions):\n",
        "  n = images.shape[0]\n",
        "  nc = int(np.ceil(n / 4))\n",
        "  f, axes = pyplot.subplots(nc, 4)\n",
        "  for i in range(nc * 4):\n",
        "    y = i // 4\n",
        "    x = i % 4\n",
        "    axes[x, y].axis('off')\n",
        "    \n",
        "    label = LABEL_NAMES[np.argmax(predictions[i])]\n",
        "    confidence = np.max(predictions[i])\n",
        "    if i > n:\n",
        "      continue\n",
        "    axes[x, y].imshow(images[i])\n",
        "    axes[x, y].text(0.5, 0.5, label + '\\n%.3f' % confidence, fontsize=14)\n",
        "  pyplot.gcf().set_size_inches(8, 8)  "
      ],
      "execution_count": 0,
      "outputs": []
    },
    {
      "cell_type": "code",
      "metadata": {
        "id": "drXEEqNYwsJt",
        "colab_type": "code",
        "outputId": "6a8940b4-1b79-418a-cc76-4fc1a1f85c18",
        "colab": {
          "base_uri": "https://localhost:8080/",
          "height": 490
        }
      },
      "source": [
        "plot_predictions(np.squeeze(x_test[:16]), model.predict(x_test[:16]))"
      ],
      "execution_count": 27,
      "outputs": [
        {
          "output_type": "display_data",
          "data": {
            "image/png": "[encoded data removed]",
            "text/plain": [
              "<Figure size 576x576 with 16 Axes>"
            ]
          },
          "metadata": {
            "tags": []
          }
        }
      ]
    }
  ]
}